{
  "nbformat": 4,
  "nbformat_minor": 0,
  "metadata": {
    "colab": {
      "name": "main.ipynb",
      "provenance": [],
      "collapsed_sections": []
    },
    "kernelspec": {
      "display_name": "Python 3",
      "language": "python",
      "name": "python3"
    },
    "language_info": {
      "codemirror_mode": {
        "name": "ipython",
        "version": 3
      },
      "file_extension": ".py",
      "mimetype": "text/x-python",
      "name": "python",
      "nbconvert_exporter": "python",
      "pygments_lexer": "ipython3",
      "version": "3.7.3"
    }
  },
  "cells": [
    {
      "cell_type": "markdown",
      "metadata": {
        "id": "_a1FXTUB71Ow",
        "colab_type": "text"
      },
      "source": [
        "Сделаны 3 улучшения:\n",
        "* добавлен еще один полносвязный слой\n",
        "* увеличен размер спектрограммы и добавлен случайный сдвиг\n",
        "* выборка train и test сбалансированны\n",
        "\n",
        "После всех улучшений val accuracy поднялась до 0,5375."
      ]
    },
    {
      "cell_type": "code",
      "metadata": {
        "colab_type": "code",
        "id": "OA6YsOYhi1uU",
        "colab": {}
      },
      "source": [
        "import librosa\n",
        "from librosa.feature import melspectrogram\n",
        "from librosa.core import load\n",
        "from librosa.display import specshow\n",
        "from librosa import power_to_db\n",
        "\n",
        "import matplotlib.pyplot as plt"
      ],
      "execution_count": 0,
      "outputs": []
    },
    {
      "cell_type": "code",
      "metadata": {
        "colab_type": "code",
        "id": "Bs8kINiri1uY",
        "colab": {}
      },
      "source": [
        "import os\n",
        "from tqdm import tqdm\n",
        "import pickle\n",
        "import pandas as pd\n",
        "import numpy as np\n",
        "\n",
        "from librosa.feature import melspectrogram\n",
        "from librosa.core import load as load_wav\n",
        "from librosa import power_to_db\n",
        "\n",
        "\n",
        "def extract_log_mel_feats(set_type, path_to_csv, path_to_files, out_path, sr, fft_size, hop, n_mels):\n",
        "    \"\"\"\n",
        "    Extract features from given files and store them in binary format.\n",
        "\n",
        "    :param set_type:\n",
        "    :param path_to_csv: path to loaded csv\n",
        "    :param path_to_files: path to loaded data\n",
        "    :param out_path: path to store extracted features\n",
        "    :param sr: input files sample rate\n",
        "    :param fft_size: size of fft window\n",
        "    :param hop: hop size\n",
        "    :param n_mels: number of mel band\n",
        "\n",
        "    :return:\n",
        "\n",
        "    \"\"\"\n",
        "    set_type = set_type.lower()\n",
        "    if set_type not in ['train', 'test']:\n",
        "        raise Exception('Such set type not supported: {}'.format(set_type))\n",
        "\n",
        "    feats = []\n",
        "\n",
        "    if set_type == 'train':\n",
        "        meta = pd.read_csv(path_to_csv, skiprows=1, names=['fname', 'label', 'manually_verified'])\n",
        "        \n",
        "        file_names = list(meta['fname'])\n",
        "        n_files = len(file_names)\n",
        "        labels = list(meta['label'])\n",
        "\n",
        "        uniq_labels = np.sort(np.unique(labels))\n",
        "        label_to_id = {label: i for i, label in enumerate(uniq_labels)}\n",
        "\n",
        "        print('Total files:', n_files)\n",
        "\n",
        "        for i, (file_name, label) in tqdm(enumerate(zip(file_names, labels))):\n",
        "            wav_data, sr = load_wav(os.path.join(path_to_files, file_name), sr=sr)\n",
        "            mel_spec = melspectrogram(wav_data, n_fft=fft_size, hop_length=hop, n_mels=n_mels, fmax=sr // 2)\n",
        "            log_mel_spec = power_to_db(mel_spec, ref=np.max)\n",
        "            feats.append({\n",
        "                'fname': file_name,\n",
        "                'feature': log_mel_spec,\n",
        "                'label_id': label_to_id[label]\n",
        "            })\n",
        "        pickle.dump(feats, open(out_path, 'wb'))    \n",
        "        return label_to_id\n",
        "    else:\n",
        "        for i, file_name in tqdm(enumerate(os.listdir(path_to_files))):\n",
        "            wav_data, sr = load_wav(os.path.join(path_to_files, file_name), sr=sr)\n",
        "            if len(wav_data) == 0:\n",
        "                # print('Empty file:', file_name)\n",
        "                wav_data = np.zeros(sr)\n",
        "            mel_spec = melspectrogram(wav_data, n_fft=fft_size, n_mels=n_mels, fmax=sr // 2)\n",
        "            log_mel_spec = power_to_db(mel_spec, ref=np.max)\n",
        "            feats.append({\n",
        "                'fname': file_name,\n",
        "                'feature': log_mel_spec,\n",
        "            })\n",
        "\n",
        "    pickle.dump(feats, open(out_path, 'wb'))\n"
      ],
      "execution_count": 0,
      "outputs": []
    },
    {
      "cell_type": "code",
      "metadata": {
        "colab_type": "code",
        "id": "07e8NWYJi1ub",
        "colab": {}
      },
      "source": [
        "train_folder = 'F:/Аудиоаналитика/audio_train/train/'\n",
        "\n",
        "sample_rate = 11025\n",
        "fft_size = 1024\n",
        "overlap = 4\n",
        "hop = fft_size // overlap\n",
        "mels = 64"
      ],
      "execution_count": 0,
      "outputs": []
    },
    {
      "cell_type": "code",
      "metadata": {
        "colab_type": "code",
        "id": "XCs2Dbfbi1ue",
        "outputId": "add1c951-66d1-43c4-fee0-a5c41518ca92",
        "colab": {}
      },
      "source": [
        "wav_data, sr = load(os.path.join(test_folder, '0a9f4e787d8d2af55683.wav'), sr=sample_rate)\n",
        "mel_spec = melspectrogram(wav_data, n_fft=fft_size, hop_length=hop, n_mels=mels, \n",
        "                          fmax=sample_rate//2)\n",
        "\n",
        "plt.figure(figsize=(10, 4))\n",
        "colors = 'viridis'\n",
        "specshow(mel_spec, y_axis='mel', fmax=sample_rate//2, x_axis='time', cmap=colors)\n",
        "plt.colorbar(format='%+2.0f дБ')\n",
        "plt.title('Мелспектрограмма')\n",
        "plt.tight_layout()\n",
        "plt.show()\n",
        "\n",
        "plt.figure(figsize=(10, 4))\n",
        "specshow(power_to_db(mel_spec, ref=np.max), y_axis='mel',\n",
        "         fmax=sample_rate//2, x_axis='time', cmap=colors)\n",
        "plt.colorbar(format='%+2.0f дБ')\n",
        "plt.title('Логарифм мелспектрограммы')\n",
        "plt.tight_layout()\n",
        "plt.show()"
      ],
      "execution_count": 0,
      "outputs": [
        {
          "output_type": "display_data",
          "data": {
            "image/png": "[encoded data removed]",
            "text/plain": [
              "<Figure size 720x288 with 2 Axes>"
            ]
          },
          "metadata": {
            "tags": [],
            "needs_background": "light"
          }
        },
        {
          "output_type": "display_data",
          "data": {
            "image/png": "[encoded data removed]",
            "text/plain": [
              "<Figure size 720x288 with 2 Axes>"
            ]
          },
          "metadata": {
            "tags": [],
            "needs_background": "light"
          }
        }
      ]
    },
    {
      "cell_type": "code",
      "metadata": {
        "colab_type": "code",
        "id": "6v4c3F2Ii1ui",
        "colab": {},
        "outputId": "7a97febf-89c4-400e-dcf7-8a4e1e60a761"
      },
      "source": [
        "path_to_csv = os.path.join('F:/Аудиоаналитика/', 'train.csv')\n",
        "\n",
        "pickle_train_path = os.path.join('F:/Аудиоаналитика/', 'train.pickle')\n",
        "\n",
        "label_to_id = extract_log_mel_feats('train', path_to_csv, train_folder, pickle_train_path, sample_rate, fft_size, hop, mels)\n",
        "id_to_label = [label for label, i in label_to_id.items()]"
      ],
      "execution_count": 0,
      "outputs": [
        {
          "output_type": "stream",
          "text": [
            "Total files: 8000\n"
          ],
          "name": "stdout"
        },
        {
          "output_type": "stream",
          "text": [
            "8000it [53:34,  2.57it/s]\n"
          ],
          "name": "stderr"
        }
      ]
    },
    {
      "cell_type": "code",
      "metadata": {
        "colab_type": "code",
        "id": "UDoYJuREi1ul",
        "colab": {}
      },
      "source": [
        "import numpy as np\n",
        "import pandas as pd\n",
        "import soundfile as sf\n",
        "import torch.nn.functional as F\n",
        "import torch.nn as nn\n",
        "import torch\n",
        "\n",
        "\n",
        "class DummyNetwork(nn.Module):\n",
        "    def __init__(self):\n",
        "        super(DummyNetwork, self).__init__()\n",
        "        \n",
        "        self.conv1 = nn.Conv2d(in_channels=1, out_channels=64, kernel_size=5, stride=(2, 2))\n",
        "        self.conv2 = nn.Conv2d(in_channels=64, out_channels=96, kernel_size=3, stride=(1, 1))\n",
        "        self.conv3 = nn.Conv2d(in_channels=96, out_channels=64, kernel_size=3, stride=(1, 1))\n",
        "        \n",
        "        self.mp = nn.MaxPool2d(kernel_size=(2, 2), stride=(1, 1))\n",
        "        \n",
        "        self.dropout1 = nn.Dropout(p=0.3)\n",
        "        self.dropout2 = nn.Dropout(p=0.3)\n",
        "        self.dropout3 = nn.Dropout(p=0.3)\n",
        "        \n",
        "        self.bn1 = nn.BatchNorm2d(num_features=64)\n",
        "        self.bn2 = nn.BatchNorm2d(num_features=96)\n",
        "        self.bn3 = nn.BatchNorm2d(num_features=64)\n",
        "        \n",
        "        self.flat = nn.Flatten()\n",
        "        # Улучшение 1\n",
        "        # добавлен еще один слой\n",
        "        self.fc1 = nn.Linear(80960, 2048)\n",
        "        self.fc2 = nn.Linear(2048, 41)\n",
        "\n",
        "    def forward(self, x):\n",
        "        \n",
        "        x = self.conv1(x)\n",
        "        x = self.bn1(x)\n",
        "        x = F.relu(x)\n",
        "        x = self.mp(x)\n",
        "        x = self.dropout1(x)\n",
        "        \n",
        "        x = self.conv2(x)\n",
        "        x = self.bn2(x)\n",
        "        x = F.relu(x)\n",
        "        x = self.mp(x)\n",
        "        x = self.dropout2(x)\n",
        "        \n",
        "        x = self.conv3(x)\n",
        "        x = self.bn3(x)\n",
        "        x = F.relu(x)\n",
        "        x = self.mp(x)\n",
        "        x = self.dropout3(x)\n",
        "        \n",
        "        x = self.flat(x)\n",
        "        # Улучшение 1\n",
        "        x = self.fc1(x)\n",
        "        x = F.relu(x)\n",
        "        x = self.fc2(x)\n",
        "        return x"
      ],
      "execution_count": 0,
      "outputs": []
    },
    {
      "cell_type": "code",
      "metadata": {
        "colab_type": "code",
        "id": "r3Kw9PC4i1uo",
        "outputId": "049aa859-5194-4418-ce68-1831def36de8",
        "colab": {
          "base_uri": "https://localhost:8080/",
          "height": 119
        }
      },
      "source": [
        "random_input = torch.randn(1, 1, 64, 128, requires_grad=True)\n",
        "network = DummyNetwork()\n",
        "output = network(random_input)\n",
        "print(output)"
      ],
      "execution_count": 0,
      "outputs": [
        {
          "output_type": "stream",
          "text": [
            "tensor([[ 0.4687,  0.1917,  0.0857,  0.0078, -0.2752,  0.4159,  0.0352, -0.2607,\n",
            "         -0.1403,  0.4060,  0.0091, -0.1274, -0.8651, -0.2369,  0.1713, -0.8487,\n",
            "         -0.1034,  0.6742, -0.0973,  0.4342,  0.1276,  0.7638,  0.3131, -0.0484,\n",
            "          0.1648, -0.4156, -0.3294,  0.4305, -0.0089, -0.1961,  0.1951,  0.0810,\n",
            "         -0.3673,  0.4498, -0.4293,  0.4670,  0.4759, -0.1770, -0.2382,  0.3278,\n",
            "         -0.1004]], grad_fn=<AddmmBackward>)\n"
          ],
          "name": "stdout"
        }
      ]
    },
    {
      "cell_type": "code",
      "metadata": {
        "colab_type": "code",
        "id": "QWriZZHMi1ur",
        "outputId": "0cef28c5-def7-4fb0-e0fc-eb0c8500bfb2",
        "colab": {
          "base_uri": "https://localhost:8080/",
          "height": 34
        }
      },
      "source": [
        "import torch.optim as optim\n",
        "\n",
        "criterion = nn.CrossEntropyLoss()\n",
        "\n",
        "optimizer = optim.SGD(network.parameters(), lr=0.001)\n",
        "optimizer.zero_grad()\n",
        "\n",
        "random_input = torch.randn(3, 1, 64, 128, requires_grad=True)\n",
        "\n",
        "output = network(random_input)\n",
        "target = torch.empty(3, dtype=torch.long).random_(5)\n",
        "loss = criterion(output, target)\n",
        "print(loss.item())\n",
        "loss.backward()\n",
        "optimizer.step() "
      ],
      "execution_count": 0,
      "outputs": [
        {
          "output_type": "stream",
          "text": [
            "3.5862064361572266\n"
          ],
          "name": "stdout"
        }
      ]
    },
    {
      "cell_type": "code",
      "metadata": {
        "colab_type": "code",
        "id": "P0zztpNQi1uv",
        "colab": {}
      },
      "source": [
        "import pickle\n",
        "\n",
        "pickle_train_data = pickle.load(open(pickle_train_path, 'rb'))"
      ],
      "execution_count": 0,
      "outputs": []
    },
    {
      "cell_type": "code",
      "metadata": {
        "colab_type": "code",
        "id": "53BShJzzi1ux",
        "colab": {}
      },
      "source": [
        "import random\n",
        "\n",
        "# Улучшение 2\n",
        "\n",
        "def prepare_shape(feature):\n",
        "    tmp = feature\n",
        "    N = 128 # увеличен размер\n",
        "    while tmp.shape[1] < N:        \n",
        "        tmp = np.hstack((tmp, tmp))\n",
        "    rand_shift = random.randint(0, tmp.shape[1]-N) # случайный сдвиг\n",
        "    tmp = tmp[np.newaxis, :, rand_shift:(rand_shift+N)]\n",
        "    return tmp"
      ],
      "execution_count": 0,
      "outputs": []
    },
    {
      "cell_type": "code",
      "metadata": {
        "id": "YUIWm7bK71Ob",
        "colab_type": "code",
        "colab": {}
      },
      "source": [
        "from sklearn.model_selection import train_test_split\n",
        "\n",
        "# Улучшение 3\n",
        "\n",
        "validation_set_size = 800\n",
        "\n",
        "features = []\n",
        "labels = []\n",
        "\n",
        "for i, row in enumerate(pickle_train_data):     \n",
        "    features.append(np.asarray(row['feature']))\n",
        "    labels.append(row['label_id'])\n",
        "    \n",
        "x_tr, x_val, y_tr, y_val = train_test_split(features, labels, test_size=validation_set_size/len(labels), random_state=42)"
      ],
      "execution_count": 0,
      "outputs": []
    },
    {
      "cell_type": "code",
      "metadata": {
        "colab_type": "code",
        "id": "NORV-eqti1u2",
        "colab": {}
      },
      "source": [
        "from torch.utils.data import Dataset\n",
        "\n",
        "class EventDetectionDataset(Dataset):\n",
        "    def __init__(self, x, y=None):\n",
        "        self.x = x\n",
        "        self.y = y\n",
        "    \n",
        "    def __len__(self):\n",
        "        return len(self.x)\n",
        "\n",
        "    def __getitem__(self, idx):\n",
        "        if self.y is not None:\n",
        "            return prepare_shape(self.x[idx]), self.y[idx] # перенесена функция\n",
        "        return prepare_shape(self.x[idx])"
      ],
      "execution_count": 0,
      "outputs": []
    },
    {
      "cell_type": "code",
      "metadata": {
        "colab_type": "code",
        "id": "3PVfC6g4i1u6",
        "colab": {}
      },
      "source": [
        "train_dset = EventDetectionDataset(x_tr, y_tr)\n",
        "val_dset = EventDetectionDataset(x_val, y_val)"
      ],
      "execution_count": 0,
      "outputs": []
    },
    {
      "cell_type": "code",
      "metadata": {
        "colab_type": "code",
        "id": "Va3onIMVi1u-",
        "outputId": "0ddae1fc-4f82-4aeb-e4f9-2913c94242de",
        "colab": {
          "base_uri": "https://localhost:8080/",
          "height": 314
        }
      },
      "source": [
        "sample_x, sample_y = val_dset[52]\n",
        "print(id_to_label[sample_y])\n",
        "plt.figure(figsize=(10, 4))\n",
        "colors = 'viridis'\n",
        "specshow(sample_x[0], y_axis='mel', fmax=sample_rate//2, x_axis='time', cmap=colors)\n",
        "plt.colorbar(format='%+2.0f дБ')\n",
        "plt.title('Мелспектрограмма')\n",
        "plt.tight_layout()\n",
        "plt.show()"
      ],
      "execution_count": 0,
      "outputs": [
        {
          "output_type": "stream",
          "text": [
            "Knock\n"
          ],
          "name": "stdout"
        },
        {
          "output_type": "display_data",
          "data": {
            "image/png": "[encoded data removed]",
            "text/plain": [
              "<Figure size 720x288 with 2 Axes>"
            ]
          },
          "metadata": {
            "tags": [],
            "needs_background": "light"
          }
        }
      ]
    },
    {
      "cell_type": "code",
      "metadata": {
        "colab_type": "code",
        "id": "yEP9-4mBi1vA",
        "colab": {}
      },
      "source": [
        "from torch.utils.data import DataLoader\n",
        "\n",
        "train_loader = DataLoader(train_dset, batch_size=16, shuffle=True, num_workers=0)\n",
        "val_loader = DataLoader(val_dset, batch_size=16, shuffle=False, num_workers=0)"
      ],
      "execution_count": 0,
      "outputs": []
    },
    {
      "cell_type": "code",
      "metadata": {
        "colab_type": "code",
        "id": "TzxW7WBHi1vD",
        "colab": {}
      },
      "source": [
        "from sklearn.metrics import accuracy_score\n",
        "import time"
      ],
      "execution_count": 0,
      "outputs": []
    },
    {
      "cell_type": "code",
      "metadata": {
        "colab_type": "code",
        "id": "BIONrDQni1vF",
        "outputId": "ddbd333d-b6f3-4aea-8afd-84b2678d0850",
        "colab": {
          "base_uri": "https://localhost:8080/",
          "height": 1000
        }
      },
      "source": [
        "n_epoch = 50\n",
        "criterion = nn.CrossEntropyLoss()\n",
        "network = DummyNetwork()\n",
        "optimizer = optim.SGD(network.parameters(), lr=0.001)\n",
        "\n",
        "train_loss = []\n",
        "val_loss = []\n",
        "\n",
        "train_acc = []\n",
        "val_acc = []\n",
        "\n",
        "start_time = time.time()\n",
        "\n",
        "for e in range(n_epoch):\n",
        "    print('epoch #', e)\n",
        "    \n",
        "    loss_list = []\n",
        "    outputs = []\n",
        "    targets = []\n",
        "    for i_batch, sample_batched in enumerate(train_loader):\n",
        "        x, y = sample_batched\n",
        "        optimizer.zero_grad()\n",
        "\n",
        "        #output = network(x)\n",
        "        output = network(x.float())\n",
        "        outputs.append(output.detach().numpy().argmax(axis=1))\n",
        "    \n",
        "        target = y\n",
        "        targets.append(target)\n",
        "        \n",
        "        loss = criterion(output, target.long())\n",
        "        loss_list.append(loss.item())\n",
        "        loss.backward()\n",
        "        optimizer.step()\n",
        "    y_true = np.hstack(targets)\n",
        "    y_pred = np.hstack(outputs)\n",
        "    acc = accuracy_score(y_true, y_pred)\n",
        "    train_loss.append(np.mean(loss_list))\n",
        "    train_acc.append(acc)\n",
        "    print('mean train loss:', train_loss[-1])\n",
        "    print('train accuracy:', acc)\n",
        "    \n",
        "    loss_list = []\n",
        "    outputs = []\n",
        "    targets = []\n",
        "    with torch.no_grad():\n",
        "        for i_batch, sample_batched in enumerate(val_loader):\n",
        "            x, y = sample_batched\n",
        "\n",
        "            #output = network(x)\n",
        "            output = network(x.float())\n",
        "            outputs.append(output.detach().numpy().argmax(axis=1))\n",
        "\n",
        "            target = y\n",
        "            targets.append(target)\n",
        "\n",
        "            loss = criterion(output, target.long())\n",
        "            loss_list.append(loss.item())\n",
        "            \n",
        "        y_true = np.hstack(targets)\n",
        "        y_pred = np.hstack(outputs)\n",
        "        acc = accuracy_score(y_true, y_pred)\n",
        "        val_loss.append(np.mean(loss_list))\n",
        "        val_acc.append(acc)\n",
        "        print('mean val loss:', val_loss[-1])\n",
        "        print('val accuracy:', acc)\n",
        "    print('Сек: ', time.time() - start_time)"
      ],
      "execution_count": 0,
      "outputs": [
        {
          "output_type": "stream",
          "text": [
            "epoch # 0\n",
            "mean train loss: 3.2069051203384897\n",
            "train accuracy: 0.13925865246774524\n",
            "mean val loss: 3.2692121696472167\n",
            "val accuracy: 0.115\n",
            "Сек:  399.91523599624634\n",
            "epoch # 1\n",
            "mean train loss: 2.786621487997716\n",
            "train accuracy: 0.23161990579561745\n",
            "mean val loss: 2.8575461673736573\n",
            "val accuracy: 0.19375\n",
            "Сек:  787.372709274292\n",
            "epoch # 2\n",
            "mean train loss: 2.5627193840500575\n",
            "train accuracy: 0.283227524063076\n",
            "mean val loss: 2.7447575759887695\n",
            "val accuracy: 0.22125\n",
            "Сек:  1173.3913433551788\n",
            "epoch # 3\n",
            "mean train loss: 2.42779868802214\n",
            "train accuracy: 0.31906614785992216\n",
            "mean val loss: 2.7761078548431395\n",
            "val accuracy: 0.22125\n",
            "Сек:  1555.7478132247925\n",
            "epoch # 4\n",
            "mean train loss: 2.319472589134391\n",
            "train accuracy: 0.35429039524882244\n",
            "mean val loss: 2.528258068561554\n",
            "val accuracy: 0.30125\n",
            "Сек:  1941.0342540740967\n",
            "epoch # 5\n",
            "mean train loss: 2.2387626062031667\n",
            "train accuracy: 0.3764079459348761\n",
            "mean val loss: 2.5027117943763733\n",
            "val accuracy: 0.30125\n",
            "Сек:  2325.108325481415\n",
            "epoch # 6\n",
            "mean train loss: 2.1630202360402526\n",
            "train accuracy: 0.39197214826950644\n",
            "mean val loss: 2.3414341521263125\n",
            "val accuracy: 0.3375\n",
            "Сек:  2711.618328809738\n",
            "epoch # 7\n",
            "mean train loss: 2.073807192394157\n",
            "train accuracy: 0.4300634855621544\n",
            "mean val loss: 2.538158311843872\n",
            "val accuracy: 0.30125\n",
            "Сек:  3097.05459690094\n",
            "epoch # 8\n",
            "mean train loss: 2.010736479478724\n",
            "train accuracy: 0.4415318451771452\n",
            "mean val loss: 2.506736545562744\n",
            "val accuracy: 0.31\n",
            "Сек:  3482.274938583374\n",
            "epoch # 9\n",
            "mean train loss: 1.9415578512974034\n",
            "train accuracy: 0.46405898013516284\n",
            "mean val loss: 2.2204912948608397\n",
            "val accuracy: 0.415\n",
            "Сек:  3867.607104539871\n",
            "epoch # 10\n",
            "mean train loss: 1.89871350378772\n",
            "train accuracy: 0.4773704689739914\n",
            "mean val loss: 2.1860496473312376\n",
            "val accuracy: 0.395\n",
            "Сек:  4252.0223507881165\n",
            "epoch # 11\n",
            "mean train loss: 1.8447389676679973\n",
            "train accuracy: 0.48740528363710833\n",
            "mean val loss: 2.1745445680618287\n",
            "val accuracy: 0.38875\n",
            "Сек:  4662.993324518204\n",
            "epoch # 12\n",
            "mean train loss: 1.789486458878112\n",
            "train accuracy: 0.4953921769404055\n",
            "mean val loss: 2.201946277618408\n",
            "val accuracy: 0.3725\n",
            "Сек:  5074.125427246094\n",
            "epoch # 13\n",
            "mean train loss: 1.7547842677122627\n",
            "train accuracy: 0.5132090927708376\n",
            "mean val loss: 2.1632465934753418\n",
            "val accuracy: 0.3975\n",
            "Сек:  5465.832458496094\n",
            "epoch # 14\n",
            "mean train loss: 1.7244756609396217\n",
            "train accuracy: 0.5300020479213599\n",
            "mean val loss: 2.206099956035614\n",
            "val accuracy: 0.38\n",
            "Сек:  5849.426872968674\n",
            "epoch # 15\n",
            "mean train loss: 1.6717371173154294\n",
            "train accuracy: 0.5361458120008191\n",
            "mean val loss: 2.0939617443084715\n",
            "val accuracy: 0.42375\n",
            "Сек:  6232.087072134018\n",
            "epoch # 16\n",
            "mean train loss: 1.6390694818075966\n",
            "train accuracy: 0.5508908457915216\n",
            "mean val loss: 1.9928987741470336\n",
            "val accuracy: 0.45875\n",
            "Сек:  6613.526163339615\n",
            "epoch # 17\n",
            "mean train loss: 1.5942112676847995\n",
            "train accuracy: 0.5535531435592873\n",
            "mean val loss: 2.0329190421104433\n",
            "val accuracy: 0.43\n",
            "Сек:  6994.353466272354\n",
            "epoch # 18\n",
            "mean train loss: 1.570401493630378\n",
            "train accuracy: 0.5621544132705304\n",
            "mean val loss: 1.9674086737632752\n",
            "val accuracy: 0.4375\n",
            "Сек:  7376.375709056854\n",
            "epoch # 19\n",
            "mean train loss: 1.5172307506885403\n",
            "train accuracy: 0.5703460987098096\n",
            "mean val loss: 1.9956143617630004\n",
            "val accuracy: 0.46\n",
            "Сек:  7756.430583715439\n",
            "epoch # 20\n",
            "mean train loss: 1.4907110269163169\n",
            "train accuracy: 0.5861150931804219\n",
            "mean val loss: 2.231188039779663\n",
            "val accuracy: 0.38875\n",
            "Сек:  8137.440516471863\n",
            "epoch # 21\n",
            "mean train loss: 1.463641310244604\n",
            "train accuracy: 0.5924636493958632\n",
            "mean val loss: 1.9277961611747743\n",
            "val accuracy: 0.4825\n",
            "Сек:  8517.898226737976\n",
            "epoch # 22\n",
            "mean train loss: 1.4280222821858972\n",
            "train accuracy: 0.6018840876510342\n",
            "mean val loss: 1.9974538397789001\n",
            "val accuracy: 0.4725\n",
            "Сек:  8899.573549747467\n",
            "epoch # 23\n",
            "mean train loss: 1.404740814484802\n",
            "train accuracy: 0.6053655539627278\n",
            "mean val loss: 2.060257910490036\n",
            "val accuracy: 0.45625\n",
            "Сек:  9281.95003771782\n",
            "epoch # 24\n",
            "mean train loss: 1.3839679427591025\n",
            "train accuracy: 0.6106901494982593\n",
            "mean val loss: 1.852541298866272\n",
            "val accuracy: 0.47375\n",
            "Сек:  9662.405041456223\n",
            "epoch # 25\n",
            "mean train loss: 1.3698589466755686\n",
            "train accuracy: 0.6240016383370879\n",
            "mean val loss: 1.9097786450386047\n",
            "val accuracy: 0.4675\n",
            "Сек:  10046.086509466171\n",
            "epoch # 26\n",
            "mean train loss: 1.3376643757025402\n",
            "train accuracy: 0.6330124923202949\n",
            "mean val loss: 1.9627870059013366\n",
            "val accuracy: 0.465\n",
            "Сек:  10427.679202079773\n",
            "epoch # 27\n",
            "mean train loss: 1.314309480922674\n",
            "train accuracy: 0.6389514642637723\n",
            "mean val loss: 1.7827694129943847\n",
            "val accuracy: 0.4925\n",
            "Сек:  10808.472633123398\n",
            "epoch # 28\n",
            "mean train loss: 1.296411527917276\n",
            "train accuracy: 0.6412041777595741\n",
            "mean val loss: 1.891798768043518\n",
            "val accuracy: 0.48625\n",
            "Сек:  11190.879380226135\n",
            "epoch # 29\n",
            "mean train loss: 1.2810815288837438\n",
            "train accuracy: 0.641408969895556\n",
            "mean val loss: 1.9293623924255372\n",
            "val accuracy: 0.47375\n",
            "Сек:  11572.24637055397\n",
            "epoch # 30\n",
            "mean train loss: 1.2262769164213168\n",
            "train accuracy: 0.6584067171820602\n",
            "mean val loss: 1.8298004245758057\n",
            "val accuracy: 0.50375\n",
            "Сек:  11953.736338376999\n",
            "epoch # 31\n",
            "mean train loss: 1.233016423150605\n",
            "train accuracy: 0.660249846405898\n",
            "mean val loss: 1.813671579360962\n",
            "val accuracy: 0.50125\n",
            "Сек:  12335.685690879822\n",
            "epoch # 32\n",
            "mean train loss: 1.2049011543295742\n",
            "train accuracy: 0.6563587958222404\n",
            "mean val loss: 1.8641906261444092\n",
            "val accuracy: 0.47875\n",
            "Сек:  12716.26095533371\n",
            "epoch # 33\n",
            "mean train loss: 1.1838167121792151\n",
            "train accuracy: 0.6737661273807086\n",
            "mean val loss: 1.739849821329117\n",
            "val accuracy: 0.53625\n",
            "Сек:  13097.990533351898\n",
            "epoch # 34\n",
            "mean train loss: 1.1620311199450026\n",
            "train accuracy: 0.6790907229162401\n",
            "mean val loss: 1.7964365339279176\n",
            "val accuracy: 0.50375\n",
            "Сек:  13479.657939434052\n",
            "epoch # 35\n",
            "mean train loss: 1.12858268628323\n",
            "train accuracy: 0.6764284251484743\n",
            "mean val loss: 1.7465775394439698\n",
            "val accuracy: 0.5375\n",
            "Сек:  13886.489741563797\n",
            "epoch # 36\n",
            "mean train loss: 1.1261780384708853\n",
            "train accuracy: 0.6833913577718616\n",
            "mean val loss: 1.7138417267799377\n",
            "val accuracy: 0.5325\n",
            "Сек:  14286.167225122452\n",
            "epoch # 37\n",
            "mean train loss: 1.1173420008880641\n",
            "train accuracy: 0.6897399139873028\n",
            "mean val loss: 1.8714447438716888\n",
            "val accuracy: 0.47875\n",
            "Сек:  14695.226165771484\n",
            "epoch # 38\n",
            "mean train loss: 1.114873040735332\n",
            "train accuracy: 0.6868728240835552\n",
            "mean val loss: 1.9959687137603759\n",
            "val accuracy: 0.46625\n",
            "Сек:  15089.392704486847\n",
            "epoch # 39\n",
            "mean train loss: 1.0822598633228564\n",
            "train accuracy: 0.6930165881630146\n",
            "mean val loss: 1.7458014750480653\n",
            "val accuracy: 0.54375\n",
            "Сек:  15471.653993368149\n",
            "epoch # 40\n",
            "mean train loss: 1.041766074747821\n",
            "train accuracy: 0.7057137005938972\n",
            "mean val loss: 1.6718891322612763\n",
            "val accuracy: 0.5425\n",
            "Сек:  15873.708339691162\n",
            "epoch # 41\n",
            "mean train loss: 1.0354075166914198\n",
            "train accuracy: 0.7118574646733565\n",
            "mean val loss: 1.9218642556667327\n",
            "val accuracy: 0.50125\n",
            "Сек:  16287.426107883453\n",
            "epoch # 42\n",
            "mean train loss: 1.0564439662920884\n",
            "train accuracy: 0.7046897399139873\n",
            "mean val loss: 1.7629103207588195\n",
            "val accuracy: 0.52\n",
            "Сек:  16703.460824012756\n",
            "epoch # 43\n",
            "mean train loss: 1.0068507678563299\n",
            "train accuracy: 0.7132910096252304\n",
            "mean val loss: 1.75487247467041\n",
            "val accuracy: 0.5375\n",
            "Сек:  17118.563074588776\n",
            "epoch # 44\n",
            "mean train loss: 0.996150877253682\n",
            "train accuracy: 0.7194347737046898\n",
            "mean val loss: 1.8436419010162353\n",
            "val accuracy: 0.51625\n",
            "Сек:  17511.65190577507\n",
            "epoch # 45\n",
            "mean train loss: 0.9891889127446156\n",
            "train accuracy: 0.7204587343845996\n",
            "mean val loss: 1.662291089296341\n",
            "val accuracy: 0.5525\n",
            "Сек:  17893.71069765091\n",
            "epoch # 46\n",
            "mean train loss: 0.9669205599945355\n",
            "train accuracy: 0.7302887569117346\n",
            "mean val loss: 1.7407150256633759\n",
            "val accuracy: 0.535\n",
            "Сек:  18282.007076740265\n",
            "epoch # 47\n",
            "mean train loss: 0.9522250955985263\n",
            "train accuracy: 0.7282408355519148\n",
            "mean val loss: 1.7942407715320587\n",
            "val accuracy: 0.5075\n",
            "Сек:  18695.534840345383\n",
            "epoch # 48\n",
            "mean train loss: 0.9570898358144012\n",
            "train accuracy: 0.7309031333196805\n",
            "mean val loss: 1.7139579832553864\n",
            "val accuracy: 0.52625\n",
            "Сек:  19097.220987319946\n",
            "epoch # 49\n",
            "mean train loss: 0.9285227570658415\n",
            "train accuracy: 0.7372516895351219\n",
            "mean val loss: 1.6580454170703889\n",
            "val accuracy: 0.5375\n",
            "Сек:  19495.446713209152\n"
          ],
          "name": "stdout"
        }
      ]
    },
    {
      "cell_type": "code",
      "metadata": {
        "colab_type": "code",
        "id": "KHTTo-psi1vI",
        "outputId": "f13e79bf-719b-4ad3-e4d2-1bd2f9df635a",
        "colab": {
          "base_uri": "https://localhost:8080/",
          "height": 231
        }
      },
      "source": [
        "epochs = np.arange(1, n_epoch+1)\n",
        "\n",
        "axes = plt.gca()\n",
        "axes.set_ylim([0,max(max(train_loss), max(val_loss))+1])\n",
        "plt.plot(epochs, train_loss, 'r', label='train')\n",
        "plt.plot(epochs, val_loss, 'b', label='val')\n",
        "plt.title('loss')\n",
        "plt.xlabel('epoch number')\n",
        "plt.ylabel('loss value')\n",
        "plt.legend()\n",
        "plt.grid()\n",
        "plt.show()\n",
        "\n",
        "\n",
        "axes = plt.gca()\n",
        "axes.set_ylim([0,1])\n",
        "plt.plot(epochs, train_acc, 'r', label='train')\n",
        "plt.plot(epochs, val_acc, 'b', label='val')\n",
        "plt.title('accuracy')\n",
        "plt.xlabel('epoch number')\n",
        "plt.ylabel('accuracy value')\n",
        "plt.legend()\n",
        "plt.grid()\n",
        "plt.show()"
      ],
      "execution_count": 0,
      "outputs": [
        {
          "output_type": "display_data",
          "data": {
            "image/png": "[encoded data removed]",
            "text/plain": [
              "<Figure size 432x288 with 1 Axes>"
            ]
          },
          "metadata": {
            "tags": [],
            "needs_background": "light"
          }
        },
        {
          "output_type": "display_data",
          "data": {
            "image/png": "[encoded data removed]",
            "text/plain": [
              "<Figure size 432x288 with 1 Axes>"
            ]
          },
          "metadata": {
            "tags": [],
            "needs_background": "light"
          }
        }
      ]
    },
    {
      "cell_type": "code",
      "metadata": {
        "id": "8Iqn06K971Ox",
        "colab_type": "code",
        "colab": {}
      },
      "source": [
        ""
      ],
      "execution_count": 0,
      "outputs": []
    }
  ]
}